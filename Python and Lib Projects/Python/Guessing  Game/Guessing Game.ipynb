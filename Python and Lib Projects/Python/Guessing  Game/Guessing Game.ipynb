{
 "cells": [
  {
   "cell_type": "markdown",
   "metadata": {},
   "source": [
    "# Guessing Game"
   ]
  },
  {
   "cell_type": "markdown",
   "metadata": {},
   "source": [
    "# Method 1"
   ]
  },
  {
   "cell_type": "code",
   "execution_count": 20,
   "metadata": {},
   "outputs": [
    {
     "name": "stdout",
     "output_type": "stream",
     "text": [
      "-------------------------------------\n",
      "You Have 5 Chances to guess number : \n",
      "-------------------------------------\n",
      "Guess the number  between 1 to 20 :\n",
      "4\n",
      "you enter greater number please input smaller number.\n",
      " \n",
      "Chances left : 4\n",
      "Guess the number  between 1 to 20 :\n",
      "16\n",
      "you enter greater number please input smaller number.\n",
      " \n",
      "Chances left : 3\n",
      "Guess the number  between 1 to 20 :\n",
      "19\n",
      "you enter greater number please input smaller number.\n",
      " \n",
      "Chances left : 2\n",
      "Guess the number  between 1 to 20 :\n",
      "10\n",
      "you enter greater number please input smaller number.\n",
      " \n",
      "Chances left : 1\n",
      "Guess the number  between 1 to 20 :\n",
      "3\n",
      "you enter greater number please input smaller number.\n",
      " \n",
      "Chances left : 0\n",
      "-----------------\n",
      "SOrry , Game Over\n",
      "-----------------\n"
     ]
    }
   ],
   "source": [
    "import random\n",
    "Wining_no = random.randint(0,20)\n",
    "Chances=5\n",
    "number_of_guesses=1\n",
    "print(\"-------------------------------------\")\n",
    "print(\"You Have 5 Chances to guess number : \")\n",
    "print(\"-------------------------------------\")\n",
    "while (number_of_guesses<=5):\n",
    "    guess_number = int(input(\"Guess the number  between 1 to 20 :\\n\"))\n",
    "    if guess_number<Wining_no:\n",
    "        print(\"you enter less number please input greater number.\\n\")\n",
    "    elif guess_number>Wining_no:\n",
    "        print(\"you enter greater number please input smaller number.\\n \")\n",
    "    else:\n",
    "        print(\"you won\\n\")\n",
    "        print(f\"Number of Chances took for win the game : {number_of_guesses}\")\n",
    "        break\n",
    "    print(f\"Chances left : {Chances-number_of_guesses}\")\n",
    "    number_of_guesses = number_of_guesses + 1\n",
    "\n",
    "if(number_of_guesses>5):\n",
    "    print(\"-----------------\")\n",
    "    print(\"SOrry , Game Over\")\n",
    "    print(\"-----------------\")"
   ]
  },
  {
   "cell_type": "markdown",
   "metadata": {},
   "source": [
    "# Method 2"
   ]
  },
  {
   "cell_type": "code",
   "execution_count": 1,
   "metadata": {},
   "outputs": [
    {
     "name": "stdout",
     "output_type": "stream",
     "text": [
      "-----------------\n",
      " Game is Start : \n",
      "-----------------\n",
      "Guess the number  between 1 to 20 :\n",
      "3\n",
      "No is less\n",
      "Guess the number  between 1 to 20 :\n",
      "6\n",
      "---------------------\n",
      "You have Win the game\n",
      "---------------------\n",
      "You have win and Number of chances you took :  2\n"
     ]
    }
   ],
   "source": [
    "import random\n",
    "guess=1\n",
    "Wining_no = random.randint(0,10)\n",
    "game_time=True\n",
    "print(\"-----------------\")\n",
    "print(\" Game is Start : \")\n",
    "print(\"-----------------\")\n",
    "while game_time:\n",
    "    guess_number = int(input(\"Guess the number  between 1 to 20 :\\n\"))\n",
    "    if guess_number == Wining_no:\n",
    "        print('---------------------')\n",
    "        print(\"You have Win the game\")\n",
    "        print('---------------------')\n",
    "        print(f\"You have win and Number of chances you took :  {guess}\")\n",
    "        game_time=False\n",
    "    else:\n",
    "        if guess_number>Wining_no:\n",
    "            print(\"No is greater\")\n",
    "            guess+=1\n",
    "        elif guess_number<Wining_no:\n",
    "            print(\"No is less\")\n",
    "            guess+=1\n",
    "        \n",
    "    \n",
    "        \n",
    "    "
   ]
  },
  {
   "cell_type": "markdown",
   "metadata": {},
   "source": []
  },
  {
   "cell_type": "code",
   "execution_count": null,
   "metadata": {},
   "outputs": [],
   "source": []
  }
 ],
 "metadata": {
  "kernelspec": {
   "display_name": "Python 3",
   "language": "python",
   "name": "python3"
  },
  "language_info": {
   "codemirror_mode": {
    "name": "ipython",
    "version": 3
   },
   "file_extension": ".py",
   "mimetype": "text/x-python",
   "name": "python",
   "nbconvert_exporter": "python",
   "pygments_lexer": "ipython3",
   "version": "3.7.6"
  }
 },
 "nbformat": 4,
 "nbformat_minor": 4
}
